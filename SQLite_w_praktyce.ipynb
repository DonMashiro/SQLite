{
 "cells": [
  {
   "cell_type": "code",
   "execution_count": 1,
   "id": "db1f567e-50e3-4e4b-acb9-865262b1387c",
   "metadata": {},
   "outputs": [],
   "source": [
    "import sqlite3\n",
    "from sqlite3 import Error"
   ]
  },
  {
   "cell_type": "code",
   "execution_count": 2,
   "id": "ada45e06-660c-4f27-a6c1-e01a9463fdc4",
   "metadata": {},
   "outputs": [],
   "source": [
    "def create_connection(db_file):\n",
    "   conn = None\n",
    "   try:\n",
    "       conn = sqlite3.connect(db_file)\n",
    "       return conn\n",
    "   except Error as e:\n",
    "       print(e)\n",
    "   return conn\n",
    "\n",
    "def execute_sql(conn, sql):\n",
    "   try:\n",
    "       c = conn.cursor()\n",
    "       c.execute(sql)\n",
    "   except Error as e:\n",
    "       print(e)"
   ]
  },
  {
   "cell_type": "code",
   "execution_count": 3,
   "id": "b87e233c-d640-4017-9905-990c19a9faae",
   "metadata": {},
   "outputs": [],
   "source": [
    "if __name__ == \"__main__\":\n",
    "\n",
    "   create_trainings_sql = \"\"\"\n",
    "   -- trainings table\n",
    "   CREATE TABLE IF NOT EXISTS trainings (\n",
    "      id integer PRIMARY KEY,\n",
    "      body_part text NOT NULL,\n",
    "      start_date text,\n",
    "      end_date text\n",
    "   );\n",
    "   \"\"\"\n",
    "\n",
    "   create_exercises_sql = \"\"\"\n",
    "   -- exercises table\n",
    "   CREATE TABLE IF NOT EXISTS exercises (\n",
    "      id integer PRIMARY KEY,\n",
    "      training_id integer NOT NULL,\n",
    "      name VARCHAR(250) NOT NULL,\n",
    "      number_of_series numeric NOT NULL,\n",
    "      number_of_rep numeric NOT NULL,\n",
    "      status VARCHAR(15) NOT NULL,\n",
    "      start_date text NOT NULL,\n",
    "      end_date text NOT NULL,\n",
    "      FOREIGN KEY (training_id) REFERENCES trainings (id)\n",
    "   );\n",
    "   \"\"\"\n",
    "    \n",
    "   db_file = \"database_2.db\"\n",
    "\n",
    "   conn = create_connection(db_file)\n",
    "   if conn is not None:\n",
    "       execute_sql(conn, create_trainings_sql)\n",
    "       execute_sql(conn, create_exercises_sql)\n",
    "       conn.close()"
   ]
  },
  {
   "cell_type": "code",
   "execution_count": 4,
   "id": "076fa3d9-e465-4914-81be-d5b6a5af126c",
   "metadata": {},
   "outputs": [],
   "source": [
    "def add_training(conn, training):\n",
    "  \"\"\"\n",
    "  Create a new training into the trainings table\n",
    "  :param conn:\n",
    "  :param training: \n",
    "  :return: training id\n",
    "  \"\"\"\n",
    "  sql = ''' INSERT INTO trainings(body_part, start_date, end_date)\n",
    "              VALUES(?, ?, ?) '''\n",
    "  cur = conn.cursor()\n",
    "  cur.execute(sql, training)\n",
    "  conn.commit()\n",
    "  return cur.lastrowid"
   ]
  },
  {
   "cell_type": "code",
   "execution_count": 5,
   "id": "7a421d01-e0e1-43cf-a139-f3c70fcae294",
   "metadata": {},
   "outputs": [],
   "source": [
    "def add_exercise(conn, exercise):\n",
    "  \"\"\"\n",
    "  Create a new exercise into the exercises table\n",
    "  :param conn:\n",
    "  :param exercise: \n",
    "  :return: exercise id\n",
    "  \"\"\"\n",
    "  sql = ''' INSERT INTO exercises(training_id, name, number_of_series, number_of_rep, status, start_date, end_date)\n",
    "              VALUES(?, ?, ?, ?, ?, ?, ?) '''\n",
    "  cur = conn.cursor()\n",
    "  cur.execute(sql, exercise)\n",
    "  conn.commit()\n",
    "  return cur.lastrowid"
   ]
  },
  {
   "cell_type": "code",
   "execution_count": 6,
   "id": "5c834397-838f-459d-a4dd-bc01146894ff",
   "metadata": {},
   "outputs": [
    {
     "name": "stdout",
     "output_type": "stream",
     "text": [
      "1 1\n"
     ]
    }
   ],
   "source": [
    "if __name__ == \"__main__\":\n",
    "    training = (\"biceps\", \"2024-09-20 10:00:00\", \"2024-09-20 11:30:00\")\n",
    "    \n",
    "    conn = create_connection(\"database_2.db\")\n",
    "    tr_id = add_training(conn, training)\n",
    "\n",
    "    exercise = (tr_id,\n",
    "                \"cable curls\",\n",
    "                4,\n",
    "                12, \n",
    "                \"finished\",\n",
    "                \"2024-09-20 10:00:00\",\n",
    "                \"2024-09-20 10:30:00\"\n",
    "    )\n",
    "    \n",
    "    exercise_id = add_exercise(conn, exercise)\n",
    "    \n",
    "    print(tr_id, exercise_id)\n",
    "    conn.commit()"
   ]
  },
  {
   "cell_type": "code",
   "execution_count": null,
   "id": "3debae73-b403-4cc8-8186-060ba41096e0",
   "metadata": {},
   "outputs": [],
   "source": []
  }
 ],
 "metadata": {
  "kernelspec": {
   "display_name": "Python 3 (ipykernel)",
   "language": "python",
   "name": "python3"
  },
  "language_info": {
   "codemirror_mode": {
    "name": "ipython",
    "version": 3
   },
   "file_extension": ".py",
   "mimetype": "text/x-python",
   "name": "python",
   "nbconvert_exporter": "python",
   "pygments_lexer": "ipython3",
   "version": "3.12.5"
  }
 },
 "nbformat": 4,
 "nbformat_minor": 5
}
